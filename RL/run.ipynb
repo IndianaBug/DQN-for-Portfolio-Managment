{
 "cells": [
  {
   "cell_type": "code",
   "execution_count": 1,
   "id": "1511454e-f830-46a7-9fe5-2b4ffe158633",
   "metadata": {},
   "outputs": [],
   "source": [
    "from DDPG_agent import DDPG\n",
    "from utilis import plot_loss,"
   ]
  },
  {
   "cell_type": "code",
   "execution_count": 2,
   "id": "0027bfd0-26f3-4592-845d-ea37c0f0cd85",
   "metadata": {},
   "outputs": [
    {
     "name": "stderr",
     "output_type": "stream",
     "text": [
      "/workspaces/OEOD-/RL/DDPG_agent.py:130: UserWarning: Creating a tensor from a list of numpy.ndarrays is extremely slow. Please consider converting the list to a single numpy.ndarray with numpy.array() before converting to a tensor. (Triggered internally at ../torch/csrc/utils/tensor_new.cpp:261.)\n",
      "  next_state = torch.FloatTensor(batch.next_state).to(device)\n"
     ]
    },
    {
     "ename": "AttributeError",
     "evalue": "module 'torch.nn' has no attribute 'QuantileLoss'",
     "output_type": "error",
     "traceback": [
      "\u001b[0;31m---------------------------------------------------------------------------\u001b[0m",
      "\u001b[0;31mAttributeError\u001b[0m                            Traceback (most recent call last)",
      "Cell \u001b[0;32mIn[2], line 5\u001b[0m\n\u001b[1;32m      1\u001b[0m agent \u001b[38;5;241m=\u001b[39m DDPG(episodes \u001b[38;5;241m=\u001b[39m \u001b[38;5;241m20\u001b[39m)\n\u001b[1;32m      3\u001b[0m \u001b[38;5;28;01mfor\u001b[39;00m episode \u001b[38;5;129;01min\u001b[39;00m \u001b[38;5;28mrange\u001b[39m(\u001b[38;5;241m1\u001b[39m, agent\u001b[38;5;241m.\u001b[39mepisodes \u001b[38;5;241m+\u001b[39m \u001b[38;5;241m1\u001b[39m):\n\u001b[0;32m----> 5\u001b[0m     done \u001b[38;5;241m=\u001b[39m \u001b[43magent\u001b[49m\u001b[38;5;241;43m.\u001b[39;49m\u001b[43moptimize\u001b[49m\u001b[43m(\u001b[49m\u001b[43mepisode\u001b[49m\u001b[43m)\u001b[49m\n\u001b[1;32m      7\u001b[0m     agent\u001b[38;5;241m.\u001b[39mtrain_env\u001b[38;5;241m.\u001b[39mprint_stats(episode)\n",
      "File \u001b[0;32m/workspaces/OEOD-/RL/DDPG_agent.py:144\u001b[0m, in \u001b[0;36mDDPG.optimize\u001b[0;34m(self, step)\u001b[0m\n\u001b[1;32m    142\u001b[0m \u001b[38;5;66;03m# Compute the expected Q values\u001b[39;00m\n\u001b[1;32m    143\u001b[0m expected_state_action_values \u001b[38;5;241m=\u001b[39m (next_state_values \u001b[38;5;241m*\u001b[39m \u001b[38;5;28mself\u001b[39m\u001b[38;5;241m.\u001b[39mgamma) \u001b[38;5;241m+\u001b[39m reward_batch\n\u001b[0;32m--> 144\u001b[0m loss \u001b[38;5;241m=\u001b[39m \u001b[43mtorch\u001b[49m\u001b[38;5;241;43m.\u001b[39;49m\u001b[43mnn\u001b[49m\u001b[38;5;241;43m.\u001b[39;49m\u001b[43mQuantileLoss\u001b[49m(q\u001b[38;5;241m=\u001b[39m[\u001b[38;5;241m0.05\u001b[39m, \u001b[38;5;241m0.1\u001b[39m, \u001b[38;5;241m0.25\u001b[39m, \u001b[38;5;241m0.5\u001b[39m, \u001b[38;5;241m0.75\u001b[39m, \u001b[38;5;241m0.9\u001b[39m, \u001b[38;5;241m0.95\u001b[39m])(expected_state_action_values, state_action_values)\n\u001b[1;32m    145\u001b[0m loss\u001b[38;5;241m.\u001b[39mbackward()\n\u001b[1;32m    146\u001b[0m \u001b[38;5;28;01mfor\u001b[39;00m param \u001b[38;5;129;01min\u001b[39;00m \u001b[38;5;28mself\u001b[39m\u001b[38;5;241m.\u001b[39mpolicy_net\u001b[38;5;241m.\u001b[39mparameters():\n",
      "\u001b[0;31mAttributeError\u001b[0m: module 'torch.nn' has no attribute 'QuantileLoss'"
     ]
    }
   ],
   "source": [
    "agent = DDPG(episodes = 20)\n",
    "\n",
    "for episode in range(1, agent.episodes + 1):\n",
    "    \n",
    "    done = agent.optimize(episode)\n",
    "\n",
    "    agent.train_env.print_stats(episode)\n",
    "\n",
    "    plot_loss()\n"
   ]
  },
  {
   "cell_type": "code",
   "execution_count": null,
   "id": "72d48ee6-0899-46ec-b553-14e943b95d1d",
   "metadata": {},
   "outputs": [],
   "source": []
  }
 ],
 "metadata": {
  "kernelspec": {
   "display_name": "Python 3 (ipykernel)",
   "language": "python",
   "name": "python3"
  },
  "language_info": {
   "codemirror_mode": {
    "name": "ipython",
    "version": 3
   },
   "file_extension": ".py",
   "mimetype": "text/x-python",
   "name": "python",
   "nbconvert_exporter": "python",
   "pygments_lexer": "ipython3",
   "version": "3.10.13"
  }
 },
 "nbformat": 4,
 "nbformat_minor": 5
}
