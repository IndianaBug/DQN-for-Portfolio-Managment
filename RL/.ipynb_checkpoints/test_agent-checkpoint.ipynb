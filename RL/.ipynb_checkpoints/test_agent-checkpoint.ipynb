{
 "cells": [
  {
   "cell_type": "code",
   "execution_count": 1,
   "id": "1511454e-f830-46a7-9fe5-2b4ffe158633",
   "metadata": {},
   "outputs": [],
   "source": [
    "from agent_DQN import DQN"
   ]
  },
  {
   "cell_type": "code",
   "execution_count": null,
   "id": "0027bfd0-26f3-4592-845d-ea37c0f0cd85",
   "metadata": {},
   "outputs": [],
   "source": [
    "agent = DQN(episodes = 50)\n",
    "\n",
    "for episode in range(1, agent.episodes + 1):\n",
    "    \n",
    "    done = agent.optimize(episode)\n",
    "\n",
    "    agent.train_env.print_stats(episode)\n"
   ]
  },
  {
   "cell_type": "code",
   "execution_count": null,
   "id": "72d48ee6-0899-46ec-b553-14e943b95d1d",
   "metadata": {},
   "outputs": [],
   "source": [
    "param_space = {\n",
    "    'lr': (1e-5, 1e-1, 'log_uniform'),\n",
    "    'gamma': (0.9, 0.999),\n",
    "    'batch_size' : (32, 128),\n",
    "    'T' : (12, 96)\n",
    "}"
   ]
  }
 ],
 "metadata": {
  "kernelspec": {
   "display_name": "Python 3 (ipykernel)",
   "language": "python",
   "name": "python3"
  },
  "language_info": {
   "codemirror_mode": {
    "name": "ipython",
    "version": 3
   },
   "file_extension": ".py",
   "mimetype": "text/x-python",
   "name": "python",
   "nbconvert_exporter": "python",
   "pygments_lexer": "ipython3",
   "version": "3.10.9"
  }
 },
 "nbformat": 4,
 "nbformat_minor": 5
}
