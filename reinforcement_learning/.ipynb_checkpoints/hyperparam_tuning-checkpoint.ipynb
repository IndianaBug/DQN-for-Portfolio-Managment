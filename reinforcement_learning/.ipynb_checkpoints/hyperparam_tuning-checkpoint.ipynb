{
 "cells": [
  {
   "cell_type": "code",
   "execution_count": 1,
   "id": "256fec72-7d3a-4efd-b82a-d76542445488",
   "metadata": {},
   "outputs": [],
   "source": [
    "import numpy as np\n",
    "from agent_DQN import DQN_agent\n",
    "import optuna\n",
    "import torch\n",
    "import torch.nn as nn\n",
    "import torch.optim as optim\n",
    "import numpy as np"
   ]
  },
  {
   "cell_type": "code",
   "execution_count": 2,
   "id": "4c764a6f-a1cd-4a9f-8b0f-063bd841b621",
   "metadata": {},
   "outputs": [],
   "source": [
    "param_space = {\n",
    "    'lr': (1e-5, 1e-1),\n",
    "    'gamma': (0.9, 0.999),\n",
    "    'batch_size' : (32, 256),\n",
    "    'T' : (1, 96),\n",
    "    'number_of_layers' : (64, 512),\n",
    "    'episodes': (10, 1000),\n",
    "    'soft_update_interval' : (5, 100)\n",
    "}"
   ]
  },
  {
   "cell_type": "code",
   "execution_count": 7,
   "id": "e72eec13-996f-4d45-abdc-35d0217fd834",
   "metadata": {},
   "outputs": [],
   "source": [
    "def train_dqn(params):\n",
    "    lr = params['lr']\n",
    "    gamma = params['gamma']\n",
    "    batch_size = params['batch_size']\n",
    "    T = params['T']\n",
    "    number_of_layers = params['number_of_layers']\n",
    "    episodes = params['episodes']\n",
    "    soft_update_interval = params['soft_update_interval']\n",
    "\n",
    "    agent = DQN_agent(episodes = episodes, \n",
    "                      lr = lr, \n",
    "                      gamma=gamma, \n",
    "                      batch_size=batch_size, \n",
    "                      T=T,\n",
    "                      number_of_layers=number_of_layers,\n",
    "                      soft_update_interval=soft_update_interval)\n",
    "    \n",
    "    for episode in range(1, agent.episodes + 1):\n",
    "\n",
    "        agent.gather_samples()\n",
    "        total_reward = agent.optimize(episode)\n",
    "    \n",
    "        if episode % 10 == 0:\n",
    "            print(f\"Episode: {episode}, Training_loss: {agent.training_losses[-1]}, Validation_loss: {agent.validation_losses[-1]}\")\n",
    "    \n",
    "        patience_counter = 0\n",
    "        # Early stoppping\n",
    "        if agent.last_validation_loss < agent.best_val_loss:\n",
    "            agent.best_val_loss = agent.last_validation_loss\n",
    "            patience_counter = 0\n",
    "        else:\n",
    "            patience_counter += 1\n",
    "        if patience_counter >= agent.patience:\n",
    "            print(f'Early stopping at epoch {episode + 1}')\n",
    "            break\n",
    "    return -total_reward"
   ]
  },
  {
   "cell_type": "code",
   "execution_count": 8,
   "id": "3d1cb0d7-acfe-4edc-b9e8-f43aaff6eba5",
   "metadata": {},
   "outputs": [],
   "source": [
    "def objective(trial):\n",
    "    # Suggest hyperparameters to try\n",
    "    params = {\n",
    "        'lr': trial.suggest_float('lr', param_space['lr'][0], param_space['lr'][1]),\n",
    "        'gamma': trial.suggest_float('gamma', param_space['gamma'][0], param_space['gamma'][1]),\n",
    "        'batch_size': trial.suggest_int('batch_size',  param_space['batch_size'][0], param_space['batch_size'][1]),\n",
    "        'T': trial.suggest_int('T',  param_space['T'][0], param_space['T'][1])\n",
    "    }\n",
    "    return train_dqn(params)"
   ]
  },
  {
   "cell_type": "code",
   "execution_count": null,
   "id": "346523f1-8c8d-4d30-8237-34b3be04111c",
   "metadata": {},
   "outputs": [
    {
     "name": "stderr",
     "output_type": "stream",
     "text": [
      "[I 2023-12-11 21:37:27,079] A new study created in memory with name: no-name-26b97cd7-8bc1-4632-a8ed-4c18cdda8b57\n",
      "C:\\coding\\ooed_v2\\OEOD-\\RL\\agent_DQN.py:136: UserWarning: Creating a tensor from a list of numpy.ndarrays is extremely slow. Please consider converting the list to a single numpy.ndarray with numpy.array() before converting to a tensor. (Triggered internally at ..\\torch\\csrc\\utils\\tensor_new.cpp:264.)\n",
      "  next_state = torch.FloatTensor(batch.next_state).to(device)\n"
     ]
    },
    {
     "name": "stdout",
     "output_type": "stream",
     "text": [
      "Early stopping at epoch 45\n"
     ]
    },
    {
     "name": "stderr",
     "output_type": "stream",
     "text": [
      "C:\\coding\\OOED\\ooed\\lib\\site-packages\\numpy\\core\\fromnumeric.py:3504: RuntimeWarning: Mean of empty slice.\n",
      "  return _methods._mean(a, axis=axis, dtype=dtype,\n",
      "C:\\coding\\OOED\\ooed\\lib\\site-packages\\numpy\\core\\_methods.py:129: RuntimeWarning: invalid value encountered in scalar divide\n",
      "  ret = ret.dtype.type(ret / rcount)\n"
     ]
    },
    {
     "name": "stdout",
     "output_type": "stream",
     "text": [
      "Early stopping at epoch 64\n",
      "Early stopping at epoch 106\n",
      "Early stopping at epoch 44\n",
      "Early stopping at epoch 34\n",
      "Early stopping at epoch 83\n",
      "Early stopping at epoch 41\n",
      "Early stopping at epoch 75\n",
      "Early stopping at epoch 46\n",
      "Early stopping at epoch 32\n",
      "Early stopping at epoch 75\n",
      "Early stopping at epoch 58\n"
     ]
    }
   ],
   "source": [
    "study = optuna.create_study(direction='minimize')\n",
    "study.optimize(objective, n_trials=10)"
   ]
  },
  {
   "cell_type": "code",
   "execution_count": null,
   "id": "2d0637cf-07fb-4e65-a1b9-7dbd1d960ed3",
   "metadata": {},
   "outputs": [],
   "source": [
    "print('Best hyperparameters:', study.best_params)\n",
    "print('Best value:', -study.best_value)"
   ]
  }
 ],
 "metadata": {
  "kernelspec": {
   "display_name": "Python 3 (ipykernel)",
   "language": "python",
   "name": "python3"
  },
  "language_info": {
   "codemirror_mode": {
    "name": "ipython",
    "version": 3
   },
   "file_extension": ".py",
   "mimetype": "text/x-python",
   "name": "python",
   "nbconvert_exporter": "python",
   "pygments_lexer": "ipython3",
   "version": "3.10.9"
  }
 },
 "nbformat": 4,
 "nbformat_minor": 5
}
